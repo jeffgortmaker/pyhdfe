{
 "cells": [
  {
   "cell_type": "markdown",
   "metadata": {
    "collapsed": true
   },
   "source": [
    "## scikit-learn"
   ]
  },
  {
   "cell_type": "code",
   "execution_count": 1,
   "metadata": {},
   "outputs": [
    {
     "data": {
      "text/plain": [
       "'0.1.1'"
      ]
     },
     "execution_count": 1,
     "metadata": {},
     "output_type": "execute_result"
    }
   ],
   "source": [
    "import pyhdfe\n",
    "import numpy as np\n",
    "from sklearn import datasets, linear_model\n",
    "\n",
    "pyhdfe.__version__"
   ]
  },
  {
   "cell_type": "markdown",
   "metadata": {},
   "source": [
    "In this tutorial, we'll use the [boston data set](https://scikit-learn.org/stable/datasets/index.html) from [scikit-learn](https://scikit-learn.org/stable/) to demonstrate how pyhdfe can be used to absorb fixed effects before running regressions.\n",
    "\n",
    "First, load the data set and create a matrix of fixed effect IDs. We'll use a dummy for the Charles river and an index of accessibility to radial highways."
   ]
  },
  {
   "cell_type": "code",
   "execution_count": 30,
   "metadata": {},
   "outputs": [
    {
     "data": {
      "text/plain": [
       "array([[0., 1.],\n",
       "       [0., 2.],\n",
       "       [0., 2.],\n",
       "       ...,\n",
       "       [0., 1.],\n",
       "       [0., 1.],\n",
       "       [0., 1.]])"
      ]
     },
     "execution_count": 30,
     "metadata": {},
     "output_type": "execute_result"
    }
   ],
   "source": [
    "boston = datasets.load_boston().data\n",
    "ids = boston[:, [3, 8]]\n",
    "ids"
   ]
  },
  {
   "cell_type": "markdown",
   "metadata": {},
   "source": [
    "Next, choose our variables: per capita crime rate, proportion of residential land zoned for lots over 25,000 square feet, and proportion of non-retail business acres per town."
   ]
  },
  {
   "cell_type": "code",
   "execution_count": 31,
   "metadata": {},
   "outputs": [
    {
     "data": {
      "text/plain": [
       "array([[6.3200e-03, 1.8000e+01, 2.3100e+00],\n",
       "       [2.7310e-02, 0.0000e+00, 7.0700e+00],\n",
       "       [2.7290e-02, 0.0000e+00, 7.0700e+00],\n",
       "       ...,\n",
       "       [6.0760e-02, 0.0000e+00, 1.1930e+01],\n",
       "       [1.0959e-01, 0.0000e+00, 1.1930e+01],\n",
       "       [4.7410e-02, 0.0000e+00, 1.1930e+01]])"
      ]
     },
     "execution_count": 31,
     "metadata": {},
     "output_type": "execute_result"
    }
   ],
   "source": [
    "variables = boston[:, :3]\n",
    "variables"
   ]
  },
  {
   "cell_type": "markdown",
   "metadata": {},
   "source": [
    "The :func:`create` function initializes an :class:`Algorithm` for fixed effect absorption that can residualize matrices with :meth:`Algorithm.residualize`. We'll use the default algorithm. You may want to try other algorithms if it takes a long time to absorb fixed effects into your data."
   ]
  },
  {
   "cell_type": "code",
   "execution_count": 32,
   "metadata": {},
   "outputs": [
    {
     "data": {
      "text/plain": [
       "array([[-1.08723516e-01, -2.20167195e+01, -2.65583593e+00],\n",
       "       [-5.59754167e-02, -2.04166667e+01, -2.56083333e+00],\n",
       "       [-5.59954167e-02, -2.04166667e+01, -2.56083333e+00],\n",
       "       ...,\n",
       "       [-5.42835164e-02, -4.00167195e+01,  6.96416407e+00],\n",
       "       [-5.45351644e-03, -4.00167195e+01,  6.96416407e+00],\n",
       "       [-6.76335164e-02, -4.00167195e+01,  6.96416407e+00]])"
      ]
     },
     "execution_count": 32,
     "metadata": {},
     "output_type": "execute_result"
    }
   ],
   "source": [
    "algorithm = pyhdfe.create(ids)\n",
    "residualized = algorithm.residualize(variables)\n",
    "residualized"
   ]
  },
  {
   "cell_type": "markdown",
   "metadata": {},
   "source": [
    "We can now run a regression of per capita crime rate on the other two variables and our fixed effects."
   ]
  },
  {
   "cell_type": "code",
   "execution_count": 33,
   "metadata": {},
   "outputs": [
    {
     "data": {
      "text/plain": [
       "array([[-6.97058632e-05,  5.53038164e-02]])"
      ]
     },
     "execution_count": 33,
     "metadata": {},
     "output_type": "execute_result"
    }
   ],
   "source": [
    "y = residualized[:, [0]]\n",
    "X = residualized[:, 1:]\n",
    "regression = linear_model.LinearRegression()\n",
    "regression.fit(X, y)\n",
    "regression.coef_"
   ]
  }
 ],
 "metadata": {
  "kernelspec": {
   "display_name": "Python 3 (ipykernel)",
   "language": "python",
   "name": "python3"
  },
  "language_info": {
   "codemirror_mode": {
    "name": "ipython",
    "version": 3
   },
   "file_extension": ".py",
   "mimetype": "text/x-python",
   "name": "python",
   "nbconvert_exporter": "python",
   "pygments_lexer": "ipython3",
   "version": "3.8.8"
  }
 },
 "nbformat": 4,
 "nbformat_minor": 1
}
